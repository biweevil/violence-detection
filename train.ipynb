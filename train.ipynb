{
 "cells": [
  {
   "cell_type": "code",
   "execution_count": 51,
   "metadata": {},
   "outputs": [],
   "source": [
    "import itertools\n",
    "import os\n",
    "from tensorflow.keras.layers import Dense, LSTM, Flatten, TimeDistributed\n",
    "from tensorflow.keras.models import Sequential\n",
    "import pandas as pd\n",
    "import numpy as np\n",
    "import random\n",
    "from sklearn.model_selection import train_test_split\n",
    "from sklearn import preprocessing\n",
    "from sklearn.compose import ColumnTransformer \n",
    "from sklearn.preprocessing import MinMaxScaler \n",
    "from sklearn.preprocessing import minmax_scale\n",
    "from tqdm import tqdm_notebook\n",
    "\n",
    "# Define constants\n",
    "person_count = 5\n",
    "max_frames = 280\n"
   ]
  },
  {
   "cell_type": "code",
   "execution_count": 45,
   "metadata": {},
   "outputs": [],
   "source": [
    "csv_dir = \"dataset/csvs\"\n",
    "\n",
    "csv_files = os.listdir(csv_dir)\n",
    "\n",
    "train_files, test_files = train_test_split(csv_files, train_size=0.8)"
   ]
  },
  {
   "cell_type": "code",
   "execution_count": 56,
   "metadata": {},
   "outputs": [],
   "source": [
    "def prepare_data(file_names, limit=0):\n",
    "    x = []\n",
    "    y = []\n",
    "    if limit != 0:\n",
    "        file_names = file_names[:limit]\n",
    "        \n",
    "    for file_name in tqdm_notebook(file_names):\n",
    "\n",
    "        csv = pd.read_csv(csv_dir + \"/\" + file_name)\n",
    "\n",
    "        current_frame = 0\n",
    "\n",
    "        violent = 0\n",
    "        \n",
    "        if len(csv) > 0:\n",
    "            violent = csv.violent[0]\n",
    "\n",
    "            csv = csv.drop('violent',axis=1)\n",
    "\n",
    "            labels = csv.columns.values\n",
    "\n",
    "            for label in labels[2:]:\n",
    "                minmax_scale = preprocessing.MinMaxScaler().fit(csv[[label]])\n",
    "                csv[[label]] = minmax_scale.transform(csv[[label]])\n",
    "\n",
    "            data = csv.to_numpy()\n",
    "\n",
    "            val_cumulative = {}\n",
    "            frame_ids = set()\n",
    "            for person in data:\n",
    "                frame_ids.add(person[0])\n",
    "                frame, person_id = person[:2]\n",
    "\n",
    "                vel_array = []\n",
    "                for vel in range(5, 70, 4):\n",
    "                    vel_array.append(vel)\n",
    "\n",
    "                total_vel = sum(vel_array)\n",
    "\n",
    "                if person_id in val_cumulative:\n",
    "                    val_cumulative[person_id] += total_vel\n",
    "                else:\n",
    "                    val_cumulative[person_id] = 0\n",
    "\n",
    "\n",
    "            val_cumulative = {k: v for k, v in sorted(val_cumulative.items(), key=lambda item: item[1], reverse=True)}\n",
    "            top_people = dict(itertools.islice(val_cumulative.items(), person_count))\n",
    "            top_people_dataset = {}\n",
    "\n",
    "            starter_map = {}\n",
    "            for key in top_people.keys():\n",
    "                starter_map[key] = np.zeros(68)\n",
    "\n",
    "            for frame_id in frame_ids:\n",
    "                # Trim to 280 if above\n",
    "                if current_frame == max_frames:\n",
    "                    break\n",
    "                tmp_map = starter_map\n",
    "                people = np.array([item for item in data if item[0] == frame_id and item[1] in top_people.keys()])\n",
    "                for person in people:\n",
    "                    tmp_map[person[1]] = person[2:]\n",
    "\n",
    "                padded = list(tmp_map.values())\n",
    "\n",
    "                for i in range(len(padded), person_count):\n",
    "                    padded.append(np.zeros(68))\n",
    "\n",
    "                top_people_dataset[frame_id] = np.asarray(padded)\n",
    "                current_frame += 1\n",
    "\n",
    "\n",
    "        # Pad to 280 frames if below\n",
    "        for i in range(current_frame+1, max_frames+1):\n",
    "            top_people_dataset[i] = []\n",
    "            for j in range(0, person_count):\n",
    "                top_people_dataset[i].append(np.zeros(68))\n",
    "\n",
    "        tmp = np.asarray(list(top_people_dataset.values()))\n",
    "\n",
    "        for entry in tmp:\n",
    "            x.append(entry)\n",
    "\n",
    "        if violent == 0:\n",
    "            for entry in np.zeros(len(tmp)):\n",
    "                y.append(entry)\n",
    "        else:\n",
    "            for entry in np.ones(len(tmp)):\n",
    "                y.append(entry)\n",
    "        \n",
    "    return (np.asarray(list(x)), np.asarray(list(y)))"
   ]
  },
  {
   "cell_type": "code",
   "execution_count": 57,
   "metadata": {},
   "outputs": [
    {
     "name": "stderr",
     "output_type": "stream",
     "text": [
      "C:\\Users\\Jack\\anaconda3\\lib\\site-packages\\ipykernel_launcher.py:7: TqdmDeprecationWarning: This function will be removed in tqdm==5.0.0\n",
      "Please use `tqdm.notebook.tqdm` instead of `tqdm.tqdm_notebook`\n",
      "  import sys\n"
     ]
    },
    {
     "data": {
      "application/vnd.jupyter.widget-view+json": {
       "model_id": "ab2a7b345141441aa746628a56727b6e",
       "version_major": 2,
       "version_minor": 0
      },
      "text/plain": [
       "HBox(children=(FloatProgress(value=0.0), HTML(value='')))"
      ]
     },
     "metadata": {},
     "output_type": "display_data"
    },
    {
     "name": "stdout",
     "output_type": "stream",
     "text": [
      "\n"
     ]
    }
   ],
   "source": [
    "x_train, y_train = prepare_data(train_files, 100)"
   ]
  },
  {
   "cell_type": "code",
   "execution_count": 17,
   "metadata": {},
   "outputs": [
    {
     "data": {
      "text/plain": [
       "(28000, 5, 68)"
      ]
     },
     "execution_count": 17,
     "metadata": {},
     "output_type": "execute_result"
    }
   ],
   "source": [
    "x_train.shape"
   ]
  },
  {
   "cell_type": "code",
   "execution_count": 18,
   "metadata": {},
   "outputs": [
    {
     "data": {
      "text/plain": [
       "(28000,)"
      ]
     },
     "execution_count": 18,
     "metadata": {},
     "output_type": "execute_result"
    }
   ],
   "source": [
    "y_train.shape"
   ]
  },
  {
   "cell_type": "code",
   "execution_count": 20,
   "metadata": {},
   "outputs": [
    {
     "name": "stdout",
     "output_type": "stream",
     "text": [
      "_________________________________________________________________\n",
      "Layer (type)                 Output Shape              Param #   \n",
      "=================================================================\n",
      "time_distributed_1 (TimeDist multiple                  0         \n",
      "_________________________________________________________________\n",
      "lstm_1 (LSTM)                multiple                  67600     \n",
      "_________________________________________________________________\n",
      "dense_1 (Dense)              multiple                  101       \n",
      "=================================================================\n",
      "Total params: 67,701\n",
      "Trainable params: 67,701\n",
      "Non-trainable params: 0\n",
      "_________________________________________________________________\n"
     ]
    }
   ],
   "source": [
    "model = Sequential()\n",
    "model.add(TimeDistributed(Flatten(input_shape=(5, 68))))\n",
    "model.add(LSTM(100))\n",
    "model.add(Dense(1, activation='sigmoid'))\n",
    "model.compile(loss='binary_crossentropy', optimizer='adam', metrics=['accuracy'])\n",
    "\n",
    "model.build(input_shape=(280, 5, 68))\n",
    "model.summary()"
   ]
  },
  {
   "cell_type": "code",
   "execution_count": 21,
   "metadata": {},
   "outputs": [
    {
     "name": "stdout",
     "output_type": "stream",
     "text": [
      "Train on 22400 samples, validate on 5600 samples\n",
      "Epoch 1/20\n",
      "22400/22400 [==============================] - 2s 103us/sample - loss: 0.6059 - acc: 0.6153 - val_loss: 0.6557 - val_acc: 0.6396\n",
      "Epoch 2/20\n",
      "22400/22400 [==============================] - 2s 80us/sample - loss: 0.5211 - acc: 0.6699 - val_loss: 0.7033 - val_acc: 0.5634\n",
      "Epoch 3/20\n",
      "22400/22400 [==============================] - 2s 86us/sample - loss: 0.4756 - acc: 0.6965 - val_loss: 0.7447 - val_acc: 0.5861\n",
      "Epoch 4/20\n",
      "22400/22400 [==============================] - 2s 89us/sample - loss: 0.4393 - acc: 0.7101 - val_loss: 0.7938 - val_acc: 0.5700\n",
      "Epoch 5/20\n",
      "22400/22400 [==============================] - 2s 95us/sample - loss: 0.4209 - acc: 0.7178 - val_loss: 0.8759 - val_acc: 0.5689\n",
      "Epoch 6/20\n",
      "22400/22400 [==============================] - 2s 107us/sample - loss: 0.4140 - acc: 0.7221 - val_loss: 0.8071 - val_acc: 0.5782\n",
      "Epoch 7/20\n",
      "22400/22400 [==============================] - 2s 103us/sample - loss: 0.4058 - acc: 0.7242 - val_loss: 0.8360 - val_acc: 0.5864\n",
      "Epoch 8/20\n",
      "22400/22400 [==============================] - 2s 102us/sample - loss: 0.4027 - acc: 0.7258 - val_loss: 0.8766 - val_acc: 0.5832\n",
      "Epoch 9/20\n",
      "22400/22400 [==============================] - 2s 107us/sample - loss: 0.3964 - acc: 0.7209 - val_loss: 0.9383 - val_acc: 0.5918\n",
      "Epoch 10/20\n",
      "22400/22400 [==============================] - 3s 123us/sample - loss: 0.3972 - acc: 0.7279 - val_loss: 0.9126 - val_acc: 0.5732\n",
      "Epoch 11/20\n",
      "22400/22400 [==============================] - 3s 139us/sample - loss: 0.3927 - acc: 0.7251 - val_loss: 0.9910 - val_acc: 0.5796\n",
      "Epoch 12/20\n",
      "22400/22400 [==============================] - 3s 115us/sample - loss: 0.3908 - acc: 0.7260 - val_loss: 1.0220 - val_acc: 0.5709\n",
      "Epoch 13/20\n",
      "22400/22400 [==============================] - 2s 110us/sample - loss: 0.3875 - acc: 0.7275 - val_loss: 1.0948 - val_acc: 0.5761\n",
      "Epoch 14/20\n",
      "22400/22400 [==============================] - 3s 113us/sample - loss: 0.3878 - acc: 0.7298 - val_loss: 0.9538 - val_acc: 0.5855\n",
      "Epoch 15/20\n",
      "22400/22400 [==============================] - 2s 102us/sample - loss: 0.3901 - acc: 0.7289 - val_loss: 1.0068 - val_acc: 0.6311\n",
      "Epoch 16/20\n",
      "22400/22400 [==============================] - 2s 107us/sample - loss: 0.3853 - acc: 0.7268 - val_loss: 1.0860 - val_acc: 0.5764\n",
      "Epoch 17/20\n",
      "22400/22400 [==============================] - 3s 121us/sample - loss: 0.3847 - acc: 0.7266 - val_loss: 1.0362 - val_acc: 0.5834\n",
      "Epoch 18/20\n",
      "22400/22400 [==============================] - 3s 115us/sample - loss: 0.3855 - acc: 0.7290 - val_loss: 1.1594 - val_acc: 0.6207\n",
      "Epoch 19/20\n",
      "22400/22400 [==============================] - 3s 117us/sample - loss: 0.3856 - acc: 0.7309 - val_loss: 0.9957 - val_acc: 0.5868\n",
      "Epoch 20/20\n",
      "22400/22400 [==============================] - 3s 114us/sample - loss: 0.3876 - acc: 0.7309 - val_loss: 1.0924 - val_acc: 0.5845\n"
     ]
    }
   ],
   "source": [
    "history = model.fit(x_train, y_train, epochs=20, batch_size=100, validation_split=0.2)"
   ]
  },
  {
   "cell_type": "code",
   "execution_count": 22,
   "metadata": {},
   "outputs": [
    {
     "data": {
      "text/plain": [
       "<matplotlib.axes._subplots.AxesSubplot at 0x22e23abb148>"
      ]
     },
     "execution_count": 22,
     "metadata": {},
     "output_type": "execute_result"
    },
    {
     "data": {
      "image/png": "[encoded data removed]",
      "text/plain": [
       "<Figure size 432x288 with 1 Axes>"
      ]
     },
     "metadata": {
      "needs_background": "light"
     },
     "output_type": "display_data"
    }
   ],
   "source": [
    "pd.DataFrame(history.history).plot()"
   ]
  },
  {
   "cell_type": "code",
   "execution_count": 24,
   "metadata": {},
   "outputs": [
    {
     "name": "stdout",
     "output_type": "stream",
     "text": [
      "NV_97_json.csv\n",
      "NV_938_json.csv\n",
      "V_298_json.csv\n",
      "V_493_json.csv\n",
      "NV_310_json.csv\n",
      "NV_708_json.csv\n",
      "NV_935_json.csv\n",
      "V_247_json.csv\n",
      "V_498_json.csv\n",
      "V_228_json.csv\n",
      "V_793_json.csv\n",
      "V_30_json.csv\n",
      "NV_377_json.csv\n",
      "NV_506_json.csv\n",
      "V_760_json.csv\n",
      "NV_594_json.csv\n",
      "V_355_json.csv\n",
      "V_385_json.csv\n",
      "NV_159_json.csv\n",
      "V_617_json.csv\n",
      "V_856_json.csv\n",
      "NV_196_json.csv\n",
      "NV_974_json.csv\n",
      "NV_557_json.csv\n",
      "V_192_json.csv\n",
      "V_370_json.csv\n",
      "NV_66_json.csv\n",
      "V_918_json.csv\n",
      "NV_859_json.csv\n",
      "NV_967_json.csv\n",
      "NV_45_json.csv\n",
      "V_650_json.csv\n",
      "V_531_json.csv\n",
      "V_624_json.csv\n",
      "V_464_json.csv\n",
      "V_790_json.csv\n",
      "NV_922_json.csv\n",
      "NV_755_json.csv\n",
      "NV_678_json.csv\n",
      "V_728_json.csv\n",
      "NV_753_json.csv\n",
      "V_864_json.csv\n",
      "V_45_json.csv\n",
      "V_269_json.csv\n",
      "V_477_json.csv\n",
      "NV_400_json.csv\n",
      "NV_813_json.csv\n",
      "NV_448_json.csv\n",
      "NV_297_json.csv\n",
      "NV_79_json.csv\n",
      "NV_820_json.csv\n",
      "V_489_json.csv\n",
      "NV_924_json.csv\n",
      "NV_19_json.csv\n",
      "NV_325_json.csv\n",
      "NV_413_json.csv\n",
      "NV_453_json.csv\n",
      "V_212_json.csv\n",
      "V_532_json.csv\n",
      "NV_638_json.csv\n",
      "V_539_json.csv\n",
      "NV_735_json.csv\n",
      "NV_212_json.csv\n",
      "NV_846_json.csv\n",
      "NV_809_json.csv\n",
      "NV_224_json.csv\n",
      "V_589_json.csv\n",
      "V_54_json.csv\n",
      "V_982_json.csv\n",
      "V_326_json.csv\n",
      "V_323_json.csv\n",
      "V_576_json.csv\n",
      "V_484_json.csv\n",
      "NV_768_json.csv\n",
      "V_443_json.csv\n",
      "V_353_json.csv\n",
      "V_642_json.csv\n",
      "V_842_json.csv\n",
      "V_52_json.csv\n",
      "NV_496_json.csv\n",
      "V_593_json.csv\n",
      "NV_336_json.csv\n",
      "NV_437_json.csv\n",
      "NV_949_json.csv\n",
      "NV_555_json.csv\n",
      "NV_6_json.csv\n",
      "V_457_json.csv\n",
      "NV_99_json.csv\n",
      "V_991_json.csv\n",
      "V_1000_json.csv\n",
      "V_894_json.csv\n",
      "NV_435_json.csv\n",
      "V_119_json.csv\n",
      "NV_388_json.csv\n",
      "V_937_json.csv\n",
      "NV_691_json.csv\n",
      "NV_452_json.csv\n",
      "V_383_json.csv\n",
      "V_438_json.csv\n",
      "NV_247_json.csv\n"
     ]
    }
   ],
   "source": [
    "x_test, y_test = prepare_data(test_files, 100)"
   ]
  },
  {
   "cell_type": "code",
   "execution_count": 25,
   "metadata": {},
   "outputs": [
    {
     "data": {
      "text/plain": [
       "(28000, 5, 68)"
      ]
     },
     "execution_count": 25,
     "metadata": {},
     "output_type": "execute_result"
    }
   ],
   "source": [
    "x_test.shape"
   ]
  },
  {
   "cell_type": "code",
   "execution_count": 26,
   "metadata": {},
   "outputs": [
    {
     "data": {
      "text/plain": [
       "(28000,)"
      ]
     },
     "execution_count": 26,
     "metadata": {},
     "output_type": "execute_result"
    }
   ],
   "source": [
    "y_test.shape"
   ]
  },
  {
   "cell_type": "code",
   "execution_count": 27,
   "metadata": {},
   "outputs": [
    {
     "name": "stdout",
     "output_type": "stream",
     "text": [
      "28000/28000 [==============================] - 2s 57us/sample - loss: 1.1589 - acc: 0.5679\n"
     ]
    },
    {
     "data": {
      "text/plain": [
       "[1.1588834816496816, 0.56792855]"
      ]
     },
     "execution_count": 27,
     "metadata": {},
     "output_type": "execute_result"
    }
   ],
   "source": [
    "scores = model.evaluate(x_test, y_test, verbose=1)\n",
    "scores"
   ]
  }
 ],
 "metadata": {
  "kernelspec": {
   "display_name": "Python 3",
   "language": "python",
   "name": "python3"
  },
  "language_info": {
   "codemirror_mode": {
    "name": "ipython",
    "version": 3
   },
   "file_extension": ".py",
   "mimetype": "text/x-python",
   "name": "python",
   "nbconvert_exporter": "python",
   "pygments_lexer": "ipython3",
   "version": "3.7.6"
  }
 },
 "nbformat": 4,
 "nbformat_minor": 4
}
