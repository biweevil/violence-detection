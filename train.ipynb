{
 "cells": [
  {
   "cell_type": "code",
   "execution_count": 60,
   "metadata": {},
   "outputs": [],
   "source": [
    "import itertools\n",
    "import os\n",
    "import tensorflow as tf\n",
    "from tensorflow.keras.layers import Dense, LSTM, Flatten, TimeDistributed, Dropout, Conv2D\n",
    "from tensorflow.keras.models import Sequential\n",
    "import pandas as pd\n",
    "import numpy as np\n",
    "import random\n",
    "from sklearn.model_selection import train_test_split\n",
    "from sklearn.compose import ColumnTransformer \n",
    "from sklearn import preprocessing\n",
    "from sklearn.preprocessing import MinMaxScaler \n",
    "from sklearn.preprocessing import minmax_scale\n",
    "from sklearn.metrics import classification_report, confusion_matrix\n",
    "from tqdm import tqdm_notebook\n",
    "\n",
    "# Define constants\n",
    "person_count = 5\n",
    "max_frames = 280\n"
   ]
  },
  {
   "cell_type": "code",
   "execution_count": 2,
   "metadata": {},
   "outputs": [],
   "source": [
    "# print(\"Num GPUs Available: \", len(tf.config.experimental.list_physical_devices('GPU')))"
   ]
  },
  {
   "cell_type": "code",
   "execution_count": 91,
   "metadata": {},
   "outputs": [
    {
     "name": "stderr",
     "output_type": "stream",
     "text": [
      "C:\\Users\\Jack\\anaconda3\\lib\\site-packages\\ipykernel_launcher.py:11: TqdmDeprecationWarning: This function will be removed in tqdm==5.0.0\n",
      "Please use `tqdm.notebook.tqdm` instead of `tqdm.tqdm_notebook`\n",
      "  # This is added back by InteractiveShellApp.init_path()\n"
     ]
    },
    {
     "data": {
      "application/vnd.jupyter.widget-view+json": {
       "model_id": "728dc7171d6842e5b909f2d783ea656f",
       "version_major": 2,
       "version_minor": 0
      },
      "text/plain": [
       "HBox(children=(FloatProgress(value=0.0, max=1951.0), HTML(value='')))"
      ]
     },
     "metadata": {},
     "output_type": "display_data"
    },
    {
     "name": "stdout",
     "output_type": "stream",
     "text": [
      "\n"
     ]
    }
   ],
   "source": [
    "csv_dir = \"dataset/csvs\"\n",
    "\n",
    "csv_files = os.listdir(csv_dir)\n",
    "\n",
    "train_files, test_files = train_test_split(csv_files, train_size=0.8)\n",
    "\n",
    "y_test_vals = []\n",
    "\n",
    "minmax_scale = preprocessing.MinMaxScaler()\n",
    "        \n",
    "for file_name in tqdm_notebook(csv_files):\n",
    "    csv = pd.read_csv(csv_dir + \"/\" + file_name)\n",
    "    if len(csv) > 0:\n",
    "        for label in csv.columns.values[2:]:\n",
    "            minmax_scale = preprocessing.MinMaxScaler().partial_fit(csv[[label]])"
   ]
  },
  {
   "cell_type": "code",
   "execution_count": 93,
   "metadata": {},
   "outputs": [],
   "source": [
    "def prepare_data(file_names, scaler, limit=0):\n",
    "    x = []\n",
    "    y = []\n",
    "    if limit != 0:\n",
    "        file_names = file_names[:limit]\n",
    "        \n",
    "    \n",
    "        \n",
    "    for file_name in tqdm_notebook(file_names):\n",
    "\n",
    "        csv = pd.read_csv(csv_dir + \"/\" + file_name)\n",
    "\n",
    "        current_frame = 0\n",
    "\n",
    "        violent = 0\n",
    "        \n",
    "        if len(csv) > 0:\n",
    "            violent = csv.violent[0]\n",
    "\n",
    "            csv = csv.drop('violent',axis=1)\n",
    "\n",
    "            labels = csv.columns.values\n",
    "\n",
    "            for label in labels[2:]:\n",
    "                csv[[label]] = scaler.transform(csv[[label]])\n",
    "\n",
    "            data = csv.to_numpy()\n",
    "\n",
    "            val_cumulative = {}\n",
    "            frame_ids = set()\n",
    "            for person in data:\n",
    "                frame_ids.add(person[0])\n",
    "                frame, person_id = person[:2]\n",
    "\n",
    "                vel_array = []\n",
    "                for vel in range(5, 70, 4):\n",
    "                    vel_array.append(vel)\n",
    "\n",
    "                total_vel = sum(vel_array)\n",
    "\n",
    "                if person_id in val_cumulative:\n",
    "                    val_cumulative[person_id] += total_vel\n",
    "                else:\n",
    "                    val_cumulative[person_id] = 0\n",
    "\n",
    "\n",
    "            val_cumulative = {k: v for k, v in sorted(val_cumulative.items(), key=lambda item: item[1], reverse=True)}\n",
    "            top_people = dict(itertools.islice(val_cumulative.items(), person_count))\n",
    "            top_people_dataset = {}\n",
    "\n",
    "            starter_map = {}\n",
    "            for key in top_people.keys():\n",
    "                starter_map[key] = np.zeros(68)\n",
    "\n",
    "            for frame_id in frame_ids:\n",
    "                # Trim to 280 if above\n",
    "                if current_frame == max_frames:\n",
    "                    break\n",
    "                tmp_map = starter_map\n",
    "                people = np.array([item for item in data if item[0] == frame_id and item[1] in top_people.keys()])\n",
    "                for person in people:\n",
    "                    tmp_map[person[1]] = person[2:]\n",
    "\n",
    "                padded = list(tmp_map.values())\n",
    "\n",
    "                for i in range(len(padded), person_count):\n",
    "                    padded.append(np.zeros(68))\n",
    "\n",
    "                top_people_dataset[frame_id] = np.asarray(padded)\n",
    "                current_frame += 1\n",
    "\n",
    "\n",
    "        # Pad to 280 frames if below\n",
    "        for i in range(current_frame+1, max_frames+1):\n",
    "            top_people_dataset[i] = []\n",
    "            for j in range(0, person_count):\n",
    "                top_people_dataset[i].append(np.zeros(68))\n",
    "\n",
    "        tmp = np.asarray(list(top_people_dataset.values()))\n",
    "\n",
    "        for entry in tmp:\n",
    "            x.append(entry)\n",
    "\n",
    "        if violent == 0:\n",
    "            for entry in np.zeros(len(tmp)):\n",
    "                y.append(entry)\n",
    "        else:\n",
    "            for entry in np.ones(len(tmp)):\n",
    "                y.append(entry)\n",
    "        \n",
    "    return (np.asarray(list(x)), np.asarray(list(y)))"
   ]
  },
  {
   "cell_type": "code",
   "execution_count": 94,
   "metadata": {},
   "outputs": [
    {
     "name": "stderr",
     "output_type": "stream",
     "text": [
      "C:\\Users\\Jack\\anaconda3\\lib\\site-packages\\ipykernel_launcher.py:9: TqdmDeprecationWarning: This function will be removed in tqdm==5.0.0\n",
      "Please use `tqdm.notebook.tqdm` instead of `tqdm.tqdm_notebook`\n",
      "  if __name__ == '__main__':\n"
     ]
    },
    {
     "data": {
      "application/vnd.jupyter.widget-view+json": {
       "model_id": "4f869c34f5d64c7ba1e36b071fd60f12",
       "version_major": 2,
       "version_minor": 0
      },
      "text/plain": [
       "HBox(children=(FloatProgress(value=0.0, max=1560.0), HTML(value='')))"
      ]
     },
     "metadata": {},
     "output_type": "display_data"
    },
    {
     "name": "stdout",
     "output_type": "stream",
     "text": [
      "\n"
     ]
    }
   ],
   "source": [
    "x_train, y_train = prepare_data(train_files, minmax_scale)"
   ]
  },
  {
   "cell_type": "code",
   "execution_count": 95,
   "metadata": {},
   "outputs": [
    {
     "data": {
      "text/plain": [
       "(436801, 5, 68)"
      ]
     },
     "execution_count": 95,
     "metadata": {},
     "output_type": "execute_result"
    }
   ],
   "source": [
    "x_train.shape"
   ]
  },
  {
   "cell_type": "code",
   "execution_count": 96,
   "metadata": {},
   "outputs": [
    {
     "data": {
      "text/plain": [
       "(436801,)"
      ]
     },
     "execution_count": 96,
     "metadata": {},
     "output_type": "execute_result"
    }
   ],
   "source": [
    "y_train.shape"
   ]
  },
  {
   "cell_type": "code",
   "execution_count": 83,
   "metadata": {},
   "outputs": [
    {
     "name": "stdout",
     "output_type": "stream",
     "text": [
      "Model: \"sequential_18\"\n",
      "_________________________________________________________________\n",
      "Layer (type)                 Output Shape              Param #   \n",
      "=================================================================\n",
      "time_distributed_18 (TimeDis multiple                  0         \n",
      "_________________________________________________________________\n",
      "lstm_26 (LSTM)               multiple                  67600     \n",
      "_________________________________________________________________\n",
      "dropout_26 (Dropout)         multiple                  0         \n",
      "_________________________________________________________________\n",
      "lstm_27 (LSTM)               multiple                  30200     \n",
      "_________________________________________________________________\n",
      "dropout_27 (Dropout)         multiple                  0         \n",
      "_________________________________________________________________\n",
      "dense_17 (Dense)             multiple                  51        \n",
      "=================================================================\n",
      "Total params: 97,851\n",
      "Trainable params: 97,851\n",
      "Non-trainable params: 0\n",
      "_________________________________________________________________\n"
     ]
    }
   ],
   "source": [
    "model = Sequential()\n",
    "model.add(TimeDistributed(Flatten(input_shape=(5, 68))))\n",
    "model.add(LSTM(100, return_sequences=True))\n",
    "model.add(Dropout(0.2))\n",
    "model.add(LSTM(50, activation='relu'))\n",
    "model.add(Dropout(0.1))\n",
    "model.add(Dense(1, activation='sigmoid'))\n",
    "model.compile(loss='binary_crossentropy', optimizer='adam', metrics=['accuracy'])\n",
    "\n",
    "model.build(input_shape=(280, 5, 68))\n",
    "model.summary()"
   ]
  },
  {
   "cell_type": "code",
   "execution_count": 97,
   "metadata": {},
   "outputs": [
    {
     "name": "stdout",
     "output_type": "stream",
     "text": [
      "Train on 349440 samples, validate on 87361 samples\n",
      "Epoch 1/10\n",
      "349440/349440 [==============================] - 39s 112us/sample - loss: 0.5913 - accuracy: 0.6400 - val_loss: 0.5875 - val_accuracy: 0.6474\n",
      "Epoch 2/10\n",
      "349440/349440 [==============================] - 41s 116us/sample - loss: 0.5626 - accuracy: 0.6575 - val_loss: 0.5795 - val_accuracy: 0.6481\n",
      "Epoch 3/10\n",
      "349440/349440 [==============================] - 47s 136us/sample - loss: 0.5492 - accuracy: 0.6657 - val_loss: 0.5749 - val_accuracy: 0.6545\n",
      "Epoch 4/10\n",
      "349440/349440 [==============================] - 46s 133us/sample - loss: 0.5369 - accuracy: 0.6717 - val_loss: 0.5838 - val_accuracy: 0.6531\n",
      "Epoch 5/10\n",
      "349440/349440 [==============================] - 42s 121us/sample - loss: 0.5261 - accuracy: 0.6773 - val_loss: 0.5853 - val_accuracy: 0.6503\n",
      "Epoch 6/10\n",
      "349440/349440 [==============================] - 50s 143us/sample - loss: 0.5219 - accuracy: 0.6797 - val_loss: 0.5876 - val_accuracy: 0.6572\n",
      "Epoch 7/10\n",
      "349440/349440 [==============================] - 46s 131us/sample - loss: 0.5179 - accuracy: 0.6818 - val_loss: 0.5954 - val_accuracy: 0.6563\n",
      "Epoch 8/10\n",
      "349440/349440 [==============================] - 46s 132us/sample - loss: 0.5119 - accuracy: 0.6850 - val_loss: 0.5929 - val_accuracy: 0.6560\n",
      "Epoch 9/10\n",
      "349440/349440 [==============================] - 50s 144us/sample - loss: 0.5064 - accuracy: 0.6880 - val_loss: 0.5945 - val_accuracy: 0.6547\n",
      "Epoch 10/10\n",
      "349440/349440 [==============================] - 44s 126us/sample - loss: 0.5035 - accuracy: 0.6896 - val_loss: 0.6037 - val_accuracy: 0.6526\n"
     ]
    }
   ],
   "source": [
    "history = model.fit(x_train, y_train, epochs=10, batch_size=100, validation_split=0.2)"
   ]
  },
  {
   "cell_type": "code",
   "execution_count": 98,
   "metadata": {},
   "outputs": [
    {
     "data": {
      "text/plain": [
       "<matplotlib.axes._subplots.AxesSubplot at 0x15f378007c8>"
      ]
     },
     "execution_count": 98,
     "metadata": {},
     "output_type": "execute_result"
    },
    {
     "data": {
      "image/png": "[encoded data removed]",
      "text/plain": [
       "<Figure size 432x288 with 1 Axes>"
      ]
     },
     "metadata": {
      "needs_background": "light"
     },
     "output_type": "display_data"
    }
   ],
   "source": [
    "pd.DataFrame(history.history).plot()"
   ]
  },
  {
   "cell_type": "code",
   "execution_count": null,
   "metadata": {},
   "outputs": [],
   "source": []
  },
  {
   "cell_type": "code",
   "execution_count": 99,
   "metadata": {},
   "outputs": [
    {
     "name": "stderr",
     "output_type": "stream",
     "text": [
      "C:\\Users\\Jack\\anaconda3\\lib\\site-packages\\ipykernel_launcher.py:9: TqdmDeprecationWarning: This function will be removed in tqdm==5.0.0\n",
      "Please use `tqdm.notebook.tqdm` instead of `tqdm.tqdm_notebook`\n",
      "  if __name__ == '__main__':\n"
     ]
    },
    {
     "data": {
      "application/vnd.jupyter.widget-view+json": {
       "model_id": "659f8199330f4710978ddb357ed8db77",
       "version_major": 2,
       "version_minor": 0
      },
      "text/plain": [
       "HBox(children=(FloatProgress(value=0.0, max=391.0), HTML(value='')))"
      ]
     },
     "metadata": {},
     "output_type": "display_data"
    },
    {
     "name": "stdout",
     "output_type": "stream",
     "text": [
      "\n"
     ]
    }
   ],
   "source": [
    "x_test, y_test = prepare_data(test_files, minmax_scale)"
   ]
  },
  {
   "cell_type": "code",
   "execution_count": 100,
   "metadata": {},
   "outputs": [
    {
     "data": {
      "text/plain": [
       "(109480, 5, 68)"
      ]
     },
     "execution_count": 100,
     "metadata": {},
     "output_type": "execute_result"
    }
   ],
   "source": [
    "x_test.shape"
   ]
  },
  {
   "cell_type": "code",
   "execution_count": 15,
   "metadata": {},
   "outputs": [
    {
     "data": {
      "text/plain": [
       "(109480,)"
      ]
     },
     "execution_count": 15,
     "metadata": {},
     "output_type": "execute_result"
    }
   ],
   "source": [
    "y_test.shape"
   ]
  },
  {
   "cell_type": "code",
   "execution_count": 101,
   "metadata": {},
   "outputs": [
    {
     "name": "stdout",
     "output_type": "stream",
     "text": [
      "109480/109480 [==============================] - ETA: 0s - loss: 0.6008 - accuracy: 0.63 - 11s 103us/sample - loss: 0.6009 - accuracy: 0.6375\n"
     ]
    },
    {
     "data": {
      "text/plain": [
       "[0.6009306807650211, 0.6374863]"
      ]
     },
     "execution_count": 101,
     "metadata": {},
     "output_type": "execute_result"
    }
   ],
   "source": [
    "scores = model.evaluate(x_test, y_test, verbose=1)\n",
    "scores"
   ]
  },
  {
   "cell_type": "code",
   "execution_count": 102,
   "metadata": {},
   "outputs": [
    {
     "name": "stdout",
     "output_type": "stream",
     "text": [
      "109480/109480 [==============================] - 9s 83us/sample\n"
     ]
    },
    {
     "data": {
      "text/plain": [
       "(109480, 1)"
      ]
     },
     "execution_count": 102,
     "metadata": {},
     "output_type": "execute_result"
    }
   ],
   "source": [
    "y_pred = model.predict(x_test, verbose=1)\n",
    "y_pred.shape"
   ]
  },
  {
   "cell_type": "code",
   "execution_count": null,
   "metadata": {},
   "outputs": [],
   "source": [
    "y_true = []\n",
    "for i in y_test:\n",
    "    y_true.append([i])\n",
    "\n",
    "y_true = np.asarray(y_true)\n",
    "\n",
    "for i in y_pred:\n",
    "    print(i)\n",
    "\n",
    "print(y_true)\n",
    "print(y_pred)\n",
    "    "
   ]
  },
  {
   "cell_type": "code",
   "execution_count": 105,
   "metadata": {},
   "outputs": [],
   "source": [
    "from sklearn.metrics import confusion_matrix\n",
    "matrix = confusion_matrix(y_true.argmax(axis=1), y_pred.argmax(axis=1))"
   ]
  },
  {
   "cell_type": "code",
   "execution_count": 106,
   "metadata": {},
   "outputs": [
    {
     "data": {
      "text/plain": [
       "array([[109480]], dtype=int64)"
      ]
     },
     "execution_count": 106,
     "metadata": {},
     "output_type": "execute_result"
    }
   ],
   "source": [
    "matrix"
   ]
  },
  {
   "cell_type": "code",
   "execution_count": 51,
   "metadata": {},
   "outputs": [
    {
     "data": {
      "text/plain": [
       "array([[0.47885376],\n",
       "       [0.47885376],\n",
       "       [0.47885376],\n",
       "       ...,\n",
       "       [0.47885376],\n",
       "       [0.47885376],\n",
       "       [0.47885376]], dtype=float32)"
      ]
     },
     "execution_count": 51,
     "metadata": {},
     "output_type": "execute_result"
    }
   ],
   "source": []
  },
  {
   "cell_type": "code",
   "execution_count": null,
   "metadata": {},
   "outputs": [],
   "source": []
  }
 ],
 "metadata": {
  "kernelspec": {
   "display_name": "Python 3",
   "language": "python",
   "name": "python3"
  },
  "language_info": {
   "codemirror_mode": {
    "name": "ipython",
    "version": 3
   },
   "file_extension": ".py",
   "mimetype": "text/x-python",
   "name": "python",
   "nbconvert_exporter": "python",
   "pygments_lexer": "ipython3",
   "version": "3.7.6"
  }
 },
 "nbformat": 4,
 "nbformat_minor": 4
}
